{
 "cells": [
  {
   "cell_type": "code",
   "execution_count": 3,
   "metadata": {},
   "outputs": [],
   "source": [
    "import glob\n",
    "import os\n",
    "import librosa\n",
    "import numpy as np\n",
    "import pandas as pd\n",
    "import matplotlib.pyplot as plt\n",
    "import tensorflow as tf\n",
    "from matplotlib.pyplot import specgram\n",
    "from tqdm import tqdm_notebook as tqdm\n",
    "%matplotlib inline"
   ]
  },
  {
   "cell_type": "code",
   "execution_count": 5,
   "metadata": {},
   "outputs": [],
   "source": [
    "def load_sound_files(file_paths):\n",
    "    raw_sounds = []\n",
    "    for fp in file_paths:\n",
    "        X,sr = librosa.load(fp)\n",
    "        raw_sounds.append(X)\n",
    "    return raw_sounds"
   ]
  },
  {
   "cell_type": "code",
   "execution_count": 7,
   "metadata": {},
   "outputs": [],
   "source": [
    "meta = pd.read_table(\"data_v_7_stc/meta/meta.txt\", header=None)\n",
    "sound_file_paths = [\"data_v_7_stc/audio/background_0001.wav\", \"data_v_7_stc/audio/background_0002.wav\"]\n",
    "\n",
    "sound_names = [meta[4][0], meta[4][1]]\n",
    "\n",
    "raw_sounds = load_sound_files(sound_file_paths)"
   ]
  },
  {
   "cell_type": "code",
   "execution_count": 12,
   "metadata": {},
   "outputs": [],
   "source": [
    "def extract_feature(file_name):\n",
    "    X, sample_rate = librosa.load(file_name)\n",
    "    stft = np.abs(librosa.stft(X))\n",
    "    mfccs = np.mean(librosa.feature.mfcc(y=X, sr=sample_rate, n_mfcc=40).T,axis=0)\n",
    "    chroma = np.mean(librosa.feature.chroma_stft(S=stft, sr=sample_rate).T,axis=0)\n",
    "    mel = np.mean(librosa.feature.melspectrogram(X, sr=sample_rate).T,axis=0)\n",
    "    contrast = np.mean(librosa.feature.spectral_contrast(S=stft, sr=sample_rate).T,axis=0)\n",
    "    tonnetz = np.mean(librosa.feature.tonnetz(y=librosa.effects.harmonic(X),\n",
    "    sr=sample_rate).T,axis=0)\n",
    "    return mfccs,chroma,mel,contrast,tonnetz\n",
    "\n"
   ]
  },
  {
   "cell_type": "code",
   "execution_count": 13,
   "metadata": {},
   "outputs": [],
   "source": [
    "def get_meta_labels(parent_dir, audio_folder, file_ext=\"*.wav\"):\n",
    "    meta = pd.read_table(\"data_v_7_stc/meta/meta.txt\", header=None)\n",
    "    train_label_dict = meta.set_index(0).to_dict()[4]    \n",
    "    labels = []\n",
    "    for file_name in tqdm(glob.glob(os.path.join(parent_dir, audio_folder, file_ext))):\n",
    "        labels.append(train_label_dict[file_name.split('\\\\')[2]])\n",
    "    return labels"
   ]
  },
  {
   "cell_type": "code",
   "execution_count": 14,
   "metadata": {},
   "outputs": [],
   "source": [
    "def parse_audio_files(parent_dir, audio_folder, file_ext=\"*.wav\", train=False):\n",
    "    features, labels = np.empty((0, 193)), np.empty(0) \n",
    "    i = 0\n",
    "    for file_name in tqdm(glob.glob(os.path.join(parent_dir, audio_folder, file_ext))):\n",
    "        try:\n",
    "            mfccs, chroma, mel, contrast,tonnetz = extract_feature(file_name)\n",
    "        except Exception as e:\n",
    "            print(\"Error encountered while parsing file: \", file_name)\n",
    "            continue\n",
    "        ext_features = np.hstack([mfccs,chroma,mel,contrast,tonnetz])\n",
    "        features = np.vstack([features,ext_features])\n",
    "        i+=1\n",
    "    if train:\n",
    "        meta = pd.read_table(\"data_v_7_stc/meta/meta.txt\", header=None)\n",
    "        train_label_dict = meta.set_index(0).to_dict()[4]\n",
    "        labs = []\n",
    "        for file_name in tqdm(glob.glob(os.path.join(parent_dir, audio_folder, file_ext))):\n",
    "            labs.append(train_label_dict[file_name.split('\\\\')[2]])\n",
    "        labels = np.array(labs)\n",
    "        return np.array(features), np.array(labels)\n",
    "    else:\n",
    "        return np.array(features)"
   ]
  },
  {
   "cell_type": "code",
   "execution_count": 105,
   "metadata": {},
   "outputs": [],
   "source": [
    "def one_hot_encode(labels):\n",
    "    one_hot_labels_tr = map(lambda x: 0 if x=='background'\n",
    "                                 else (1 if x=='bags' \n",
    "                                       else (2 if x=='door'\n",
    "                                            else (3 if x=='keyboard'\n",
    "                                                 else (4 if x=='knocking_door'\n",
    "                                                      else (5 if x=='ring'\n",
    "                                                           else (6 if x=='speech'\n",
    "                                                                else (7 if x=='tool'\n",
    "                                                                      else None))))))), tr_labels)\n",
    "    labels = np.fromiter(one_hot_labels_tr, dtype=np.int)\n",
    "    n_labels = len(labels)\n",
    "    n_unique_labels = len(np.unique(labels))\n",
    "    one_hot_encode = np.zeros((n_labels,n_unique_labels))\n",
    "    one_hot_encode[np.arange(n_labels), labels] = 1\n",
    "    return one_hot_encode"
   ]
  },
  {
   "cell_type": "code",
   "execution_count": null,
   "metadata": {},
   "outputs": [],
   "source": [
    "parent_dir = 'data_v_7_stc'\n",
    "audio_folder = 'audio'\n",
    "tr_features, tr_labels = parse_audio_files(parent_dir, audio_folder, train=True)\n",
    "\n",
    "tr_features.tofile(\"tr_features.csv\", sep=';')\n",
    "tr_labels.tofile(\"tr_labels.csv\", sep=';')\n",
    "\n"
   ]
  },
  {
   "cell_type": "code",
   "execution_count": 115,
   "metadata": {},
   "outputs": [
    {
     "data": {
      "application/vnd.jupyter.widget-view+json": {
       "model_id": "fa64c9bfe139457f80364172f3444222",
       "version_major": 2,
       "version_minor": 0
      },
      "text/html": [
       "<p>Failed to display Jupyter Widget of type <code>HBox</code>.</p>\n",
       "<p>\n",
       "  If you're reading this message in the Jupyter Notebook or JupyterLab Notebook, it may mean\n",
       "  that the widgets JavaScript is still loading. If this message persists, it\n",
       "  likely means that the widgets JavaScript library is either not installed or\n",
       "  not enabled. See the <a href=\"https://ipywidgets.readthedocs.io/en/stable/user_install.html\">Jupyter\n",
       "  Widgets Documentation</a> for setup instructions.\n",
       "</p>\n",
       "<p>\n",
       "  If you're reading this message in another frontend (for example, a static\n",
       "  rendering on GitHub or <a href=\"https://nbviewer.jupyter.org/\">NBViewer</a>),\n",
       "  it may mean that your frontend doesn't currently support widgets.\n",
       "</p>\n"
      ],
      "text/plain": [
       "HBox(children=(IntProgress(value=0, max=610), HTML(value='')))"
      ]
     },
     "metadata": {},
     "output_type": "display_data"
    },
    {
     "name": "stdout",
     "output_type": "stream",
     "text": [
      "\n"
     ]
    },
    {
     "name": "stderr",
     "output_type": "stream",
     "text": [
      "Exception in thread Thread-4:\n",
      "Traceback (most recent call last):\n",
      "  File \"/Applications/anaconda3/lib/python3.6/threading.py\", line 916, in _bootstrap_inner\n",
      "    self.run()\n",
      "  File \"/Applications/anaconda3/lib/python3.6/site-packages/tqdm/_tqdm.py\", line 148, in run\n",
      "    for instance in self.tqdm_cls._instances:\n",
      "  File \"/Applications/anaconda3/lib/python3.6/_weakrefset.py\", line 60, in __iter__\n",
      "    for itemref in self.data:\n",
      "RuntimeError: Set changed size during iteration\n",
      "\n"
     ]
    },
    {
     "name": "stdout",
     "output_type": "stream",
     "text": [
      "\n"
     ]
    }
   ],
   "source": [
    "audio_folder = 'test'\n",
    "ts_features = parse_audio_files(parent_dir, audio_folder)\n"
   ]
  },
  {
   "cell_type": "code",
   "execution_count": 114,
   "metadata": {},
   "outputs": [],
   "source": [
    "# tr_labels = one_hot_encode(tr_labels)"
   ]
  },
  {
   "cell_type": "code",
   "execution_count": 125,
   "metadata": {},
   "outputs": [],
   "source": [
    "# tr_features = pd.read_csv('tr_features_df.csv', sep=',')"
   ]
  },
  {
   "cell_type": "code",
   "execution_count": 129,
   "metadata": {},
   "outputs": [],
   "source": [
    "# tr_features.columns = range(0, 193)"
   ]
  },
  {
   "cell_type": "code",
   "execution_count": 130,
   "metadata": {},
   "outputs": [
    {
     "data": {
      "text/plain": [
       "RangeIndex(start=0, stop=193, step=1)"
      ]
     },
     "execution_count": 130,
     "metadata": {},
     "output_type": "execute_result"
    }
   ],
   "source": [
    "# tr_features.columns"
   ]
  },
  {
   "cell_type": "code",
   "execution_count": 59,
   "metadata": {},
   "outputs": [],
   "source": [
    "tr_labels = pd.read_csv('train_true_labels.csv', header=None, sep=';')[0]\n",
    "tr_labels = np.array(tr_labels).reshape((11307,))\n",
    "one_hot_labels_tr = map(lambda x: 0 if x==\"'background'\"\n",
    "                                 else (1 if x==\"'bags'\" \n",
    "                                       else (2 if x==\"'door'\"\n",
    "                                            else (3 if x==\"'keyboard'\"\n",
    "                                                 else (4 if x==\"'knocking_door'\"\n",
    "                                                      else (5 if x==\"'ring'\"\n",
    "                                                           else (6 if x==\"'speech'\"\n",
    "                                                                else (7 if x==\"'tool'\"\n",
    "                                                                      else None))))))), tr_labels)\n",
    "labels = np.fromiter(one_hot_labels_tr, dtype=np.int)"
   ]
  },
  {
   "cell_type": "code",
   "execution_count": 131,
   "metadata": {},
   "outputs": [],
   "source": [
    "from sklearn.model_selection import train_test_split\n",
    "\n",
    "X_train, X_test, y_train, y_test = train_test_split(tr_features, labels, test_size=0.2, random_state=42)"
   ]
  },
  {
   "cell_type": "code",
   "execution_count": 132,
   "metadata": {},
   "outputs": [],
   "source": [
    "ts_features = pd.DataFrame(ts_features)"
   ]
  },
  {
   "cell_type": "code",
   "execution_count": 133,
   "metadata": {},
   "outputs": [
    {
     "data": {
      "text/plain": [
       "RangeIndex(start=0, stop=193, step=1)"
      ]
     },
     "execution_count": 133,
     "metadata": {},
     "output_type": "execute_result"
    }
   ],
   "source": [
    "ts_features.columns "
   ]
  },
  {
   "cell_type": "code",
   "execution_count": 134,
   "metadata": {},
   "outputs": [
    {
     "data": {
      "text/plain": [
       "RangeIndex(start=0, stop=193, step=1)"
      ]
     },
     "execution_count": 134,
     "metadata": {},
     "output_type": "execute_result"
    }
   ],
   "source": [
    "tr_features.columns"
   ]
  },
  {
   "cell_type": "code",
   "execution_count": 135,
   "metadata": {},
   "outputs": [
    {
     "name": "stderr",
     "output_type": "stream",
     "text": [
      "/Applications/anaconda3/lib/python3.6/site-packages/sklearn/preprocessing/label.py:151: DeprecationWarning: The truth value of an empty array is ambiguous. Returning False, but in future this will result in an error. Use `array.size > 0` to check that an array is not empty.\n",
      "  if diff:\n"
     ]
    }
   ],
   "source": [
    "from xgboost import XGBClassifier\n",
    "from sklearn.metrics import accuracy_score\n",
    "\n",
    "model = XGBClassifier(objective='multi:softmax')\n",
    "model.fit(tr_features, labels)\n",
    "y_pred = model.predict(ts_features)\n",
    "y_pred_proba = model.predict_proba(ts_features)\n",
    "# predictions = [int(value) for value in y_pred]"
   ]
  },
  {
   "cell_type": "code",
   "execution_count": 93,
   "metadata": {},
   "outputs": [
    {
     "name": "stdout",
     "output_type": "stream",
     "text": [
      "Accuracy: 98.89%\n"
     ]
    }
   ],
   "source": [
    "accuracy = accuracy_score(y_test, y_pred)\n",
    "print(\"Accuracy: %.2f%%\" % (accuracy * 100.0))"
   ]
  },
  {
   "cell_type": "code",
   "execution_count": 138,
   "metadata": {},
   "outputs": [
    {
     "name": "stdout",
     "output_type": "stream",
     "text": [
      "True: [0.103 0.111 0.305 0.117 0.145 0.059 0.025 0.134]\n",
      "Pred: [0.064 0.082 0.12  0.097 0.097 0.134 0.239 0.167]\n"
     ]
    }
   ],
   "source": [
    "unique, freqs = np.unique(y_test, return_counts=True)\n",
    "print(\"True:\", np.round(freqs/sum(freqs), 3))\n",
    "unique, freqs = np.unique(y_pred, return_counts=True)\n",
    "print(\"Pred:\", np.round(freqs/sum(freqs), 3),)"
   ]
  },
  {
   "cell_type": "code",
   "execution_count": 139,
   "metadata": {},
   "outputs": [
    {
     "data": {
      "text/plain": [
       "610"
      ]
     },
     "execution_count": 139,
     "metadata": {},
     "output_type": "execute_result"
    }
   ],
   "source": [
    "from os import listdir\n",
    "from os.path import isfile, join\n",
    "\n",
    "def get_file_names(mypath):\n",
    "    return [f for f in listdir(mypath) if isfile(join(mypath, f))]\n",
    "a = get_file_names(\"data_v_7_stc/test\")\n",
    "len(a)"
   ]
  },
  {
   "cell_type": "code",
   "execution_count": 140,
   "metadata": {},
   "outputs": [],
   "source": [
    "def get_probabilities(y_pred_proba):\n",
    "    return np.max(y_pred_proba, axis=1)\n"
   ]
  },
  {
   "cell_type": "code",
   "execution_count": 141,
   "metadata": {},
   "outputs": [],
   "source": [
    "def decode(y_pred):\n",
    "    one_hot_labels_tr = map(lambda x: 'background' if x== 0\n",
    "                                     else ('bags' if x== 1\n",
    "                                           else ('door' if x==2\n",
    "                                                else ('keyboard' if x== 3\n",
    "                                                     else ('knocking_door' if x== 4\n",
    "                                                          else ('ring' if x== 5\n",
    "                                                               else ('speech' if x==6\n",
    "                                                                    else ('tool' if x==7\n",
    "                                                                          else None))))))), y_pred)\n",
    "    return list(one_hot_labels_tr)"
   ]
  },
  {
   "cell_type": "code",
   "execution_count": 145,
   "metadata": {},
   "outputs": [
    {
     "data": {
      "text/html": [
       "<div>\n",
       "<style scoped>\n",
       "    .dataframe tbody tr th:only-of-type {\n",
       "        vertical-align: middle;\n",
       "    }\n",
       "\n",
       "    .dataframe tbody tr th {\n",
       "        vertical-align: top;\n",
       "    }\n",
       "\n",
       "    .dataframe thead th {\n",
       "        text-align: right;\n",
       "    }\n",
       "</style>\n",
       "<table border=\"1\" class=\"dataframe\">\n",
       "  <thead>\n",
       "    <tr style=\"text-align: right;\">\n",
       "      <th></th>\n",
       "      <th>0</th>\n",
       "      <th>1</th>\n",
       "      <th>2</th>\n",
       "    </tr>\n",
       "  </thead>\n",
       "  <tbody>\n",
       "    <tr>\n",
       "      <th>0</th>\n",
       "      <td>unknown_0063.wav</td>\n",
       "      <td>0.578564</td>\n",
       "      <td>tool</td>\n",
       "    </tr>\n",
       "    <tr>\n",
       "      <th>1</th>\n",
       "      <td>unknown_0077.wav</td>\n",
       "      <td>0.730960</td>\n",
       "      <td>keyboard</td>\n",
       "    </tr>\n",
       "    <tr>\n",
       "      <th>2</th>\n",
       "      <td>unknown_0088.wav</td>\n",
       "      <td>0.889426</td>\n",
       "      <td>tool</td>\n",
       "    </tr>\n",
       "    <tr>\n",
       "      <th>3</th>\n",
       "      <td>keyboard_0035.wav</td>\n",
       "      <td>0.962278</td>\n",
       "      <td>keyboard</td>\n",
       "    </tr>\n",
       "    <tr>\n",
       "      <th>4</th>\n",
       "      <td>knocking_door_t_0002.wav</td>\n",
       "      <td>0.994977</td>\n",
       "      <td>knocking_door</td>\n",
       "    </tr>\n",
       "  </tbody>\n",
       "</table>\n",
       "</div>"
      ],
      "text/plain": [
       "                          0         1              2\n",
       "0          unknown_0063.wav  0.578564           tool\n",
       "1          unknown_0077.wav  0.730960       keyboard\n",
       "2          unknown_0088.wav  0.889426           tool\n",
       "3         keyboard_0035.wav  0.962278       keyboard\n",
       "4  knocking_door_t_0002.wav  0.994977  knocking_door"
      ]
     },
     "execution_count": 145,
     "metadata": {},
     "output_type": "execute_result"
    }
   ],
   "source": [
    "res = pd.DataFrame(None, index=list(range(len(y_pred))),  columns=[0,1,2])\n",
    "res[0] = get_file_names(\"data_v_7_stc/test\")\n",
    "res[1] = get_probabilities(y_pred_proba)\n",
    "res[2] = decode(y_pred)\n",
    "res.head()"
   ]
  },
  {
   "cell_type": "code",
   "execution_count": 150,
   "metadata": {},
   "outputs": [],
   "source": [
    "base_filename = 'RESULTS.txt'\n",
    "with open(os.path.join(\"data_v_7_stc\", base_filename),'w') as outfile:\n",
    "    res.to_string(outfile)"
   ]
  },
  {
   "cell_type": "code",
   "execution_count": null,
   "metadata": {},
   "outputs": [],
   "source": []
  }
 ],
 "metadata": {
  "kernelspec": {
   "display_name": "Python 3",
   "language": "python",
   "name": "python3"
  },
  "language_info": {
   "codemirror_mode": {
    "name": "ipython",
    "version": 3
   },
   "file_extension": ".py",
   "mimetype": "text/x-python",
   "name": "python",
   "nbconvert_exporter": "python",
   "pygments_lexer": "ipython3",
   "version": "3.6.4"
  }
 },
 "nbformat": 4,
 "nbformat_minor": 2
}
